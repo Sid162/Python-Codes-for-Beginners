{
 "cells": [
  {
   "cell_type": "code",
   "execution_count": 8,
   "metadata": {},
   "outputs": [
    {
     "name": "stdout",
     "output_type": "stream",
     "text": [
      "Enter the length of Fisrt side of the triangle:10\n",
      "Enter the length of Second side of the triangle:10\n",
      "Enter the length of Third side of the triangle:10\n",
      "The area of triangle is 43.301270\n"
     ]
    }
   ],
   "source": [
    "a = float(input('Enter the length of Fisrt side of the triangle:'))\n",
    "b = float(input('Enter the length of Second side of the triangle:'))\n",
    "c = float(input('Enter the length of Third side of the triangle:'))\n",
    "s = (a+b+c)/2\n",
    "area = (s*(s-a)*(s-b)*(s-c))**0.5\n",
    "print('The area of triangle is %f'%area)"
   ]
  },
  {
   "cell_type": "code",
   "execution_count": 11,
   "metadata": {},
   "outputs": [
    {
     "name": "stdout",
     "output_type": "stream",
     "text": [
      "['name', 'oberoi']\n"
     ]
    }
   ],
   "source": [
    "def filter_long_words(n, str):\n",
    "    word_len = []\n",
    "    txt = str.split(\" \")\n",
    "    for x in txt:\n",
    "        if len(x) > n:\n",
    "            word_len.append(x)\n",
    "    return word_len\n",
    "print(filter_long_words(3,\"My name is sid oberoi\"))"
   ]
  },
  {
   "cell_type": "code",
   "execution_count": null,
   "metadata": {},
   "outputs": [],
   "source": [
    "def map_words_to_Length(List):\n",
    "    return list(map(len, List))\n",
    "word_List = list(input(\"Enter the words:\")).split(\",\")\n",
    "List=[x.strip() for x in word_List]\n",
    "Words_lengths = map_words_to_Length(List)\n",
    "print(\"lengths of words are:\",Words_lengths)\n"
   ]
  },
  {
   "cell_type": "code",
   "execution_count": null,
   "metadata": {},
   "outputs": [],
   "source": [
    "def vowel_check(inputchar):\n",
    "    return_value=''\n",
    "    if(len(inputchar==1)):\n",
    "        vowel_list = ['a','e','i','o','u']\n",
    "        if(inputchar.lower() in vowel_list):\n",
    "            return_value = True\n",
    "        else:\n",
    "            return_value = False\n",
    "    else:\n",
    "        return_value = \"Please enter a character only\"\n",
    "        return return_value\n",
    "    \n",
    "input_value = input(\"Enter the character:\")\n",
    "output_value = vowel_check(input_value)\n",
    "print(\"output is :\",output_value)"
   ]
  }
 ],
 "metadata": {
  "kernelspec": {
   "display_name": "Python 3",
   "language": "python",
   "name": "python3"
  },
  "language_info": {
   "codemirror_mode": {
    "name": "ipython",
    "version": 3
   },
   "file_extension": ".py",
   "mimetype": "text/x-python",
   "name": "python",
   "nbconvert_exporter": "python",
   "pygments_lexer": "ipython3",
   "version": "3.7.6"
  }
 },
 "nbformat": 4,
 "nbformat_minor": 4
}
